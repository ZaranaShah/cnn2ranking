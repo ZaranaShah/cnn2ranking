{
 "cells": [
  {
   "cell_type": "code",
   "execution_count": 13,
   "metadata": {},
   "outputs": [
    {
     "data": {
      "text/plain": [
       "[OrderedDict([('db_name', 'fgnet'),\n",
       "              ('full_path', 'images/021A18.JPG'),\n",
       "              ('age', '18')]),\n",
       " OrderedDict([('db_name', 'fgnet'),\n",
       "              ('full_path', 'images/025A28.JPG'),\n",
       "              ('age', '28')]),\n",
       " OrderedDict([('db_name', 'fgnet'),\n",
       "              ('full_path', 'images/064A19.JPG'),\n",
       "              ('age', '19')])]"
      ]
     },
     "execution_count": 13,
     "metadata": {},
     "output_type": "execute_result"
    }
   ],
   "source": [
    "import csv\n",
    "import math\n",
    "import random\n",
    "\n",
    "with open('/home/zarana/cnn2ranking/fgnet_train.csv') as csvfile:\n",
    "    mpg = list(csv.DictReader(csvfile))\n",
    "    \n",
    "mpg[:3] "
   ]
  },
  {
   "cell_type": "code",
   "execution_count": 14,
   "metadata": {},
   "outputs": [],
   "source": [
    "mpg1=mpg\n",
    "for d in mpg1:\n",
    "    age=d['age']\n",
    "    if(int(age)>=0 and int(age)<8): #8\n",
    "        d['ageGrp']= 0\n",
    "    elif (int(age)>=8 and int(age)<15): #7\n",
    "        d['ageGrp']= 1\n",
    "    elif (int(age)>=15 and int(age)<19): #10\n",
    "        d['ageGrp']= 2\n",
    "    elif (int(age)>=19 and int(age)<25): #10\n",
    "        d['ageGrp']= 3\n",
    "    elif (int(age)>=25 and int(age)<101): #14\n",
    "        d['ageGrp']= 4\n",
    "    #elif (int(age)>=38 and int(age)<48): #10\n",
    "        #d['ageGrp']= 5\n",
    "   "
   ]
  },
  {
   "cell_type": "code",
   "execution_count": 15,
   "metadata": {},
   "outputs": [
    {
     "data": {
      "text/plain": [
       "OrderedDict([('db_name', 'fgnet'),\n",
       "             ('full_path', 'images/006A40.JPG'),\n",
       "             ('age', '40'),\n",
       "             ('ageGrp', 4)])"
      ]
     },
     "execution_count": 15,
     "metadata": {},
     "output_type": "execute_result"
    }
   ],
   "source": [
    "mpg1[12]"
   ]
  },
  {
   "cell_type": "code",
   "execution_count": 16,
   "metadata": {},
   "outputs": [
    {
     "data": {
      "text/plain": [
       "794"
      ]
     },
     "execution_count": 16,
     "metadata": {},
     "output_type": "execute_result"
    }
   ],
   "source": [
    "len(mpg1)"
   ]
  },
  {
   "cell_type": "code",
   "execution_count": 17,
   "metadata": {},
   "outputs": [
    {
     "data": {
      "text/plain": [
       "odict_keys(['db_name', 'full_path', 'age', 'ageGrp'])"
      ]
     },
     "execution_count": 17,
     "metadata": {},
     "output_type": "execute_result"
    }
   ],
   "source": [
    "keys = mpg1[0].keys()\n",
    "keys"
   ]
  },
  {
   "cell_type": "code",
   "execution_count": 18,
   "metadata": {},
   "outputs": [],
   "source": [
    "with open('/home/zarana/cnn2ranking/fgnet_train_ageGrp.csv', 'w') as output_file:\n",
    "    dict_writer = csv.DictWriter(output_file, keys)\n",
    "    dict_writer.writeheader()\n",
    "    dict_writer.writerows(mpg1)"
   ]
  },
  {
   "cell_type": "code",
   "execution_count": null,
   "metadata": {},
   "outputs": [],
   "source": []
  }
 ],
 "metadata": {
  "kernelspec": {
   "display_name": "Python 3",
   "language": "python",
   "name": "python3"
  },
  "language_info": {
   "codemirror_mode": {
    "name": "ipython",
    "version": 3
   },
   "file_extension": ".py",
   "mimetype": "text/x-python",
   "name": "python",
   "nbconvert_exporter": "python",
   "pygments_lexer": "ipython3",
   "version": "3.6.9"
  }
 },
 "nbformat": 4,
 "nbformat_minor": 4
}
