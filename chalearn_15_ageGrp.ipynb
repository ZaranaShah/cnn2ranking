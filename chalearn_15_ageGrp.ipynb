{
 "cells": [
  {
   "cell_type": "code",
   "execution_count": 23,
   "metadata": {},
   "outputs": [
    {
     "data": {
      "text/plain": [
       "[OrderedDict([('db_name', 'chalearn_15/Validation'),\n",
       "              ('full_path', 'image_3300.jpg'),\n",
       "              ('age', '31'),\n",
       "              ('std', '5.032721'),\n",
       "              ('ageGrp', '3')]),\n",
       " OrderedDict([('db_name', 'chalearn_15/Validation'),\n",
       "              ('full_path', 'image_3939.jpg'),\n",
       "              ('age', '31'),\n",
       "              ('std', '5.240762999999999'),\n",
       "              ('ageGrp', '3')]),\n",
       " OrderedDict([('db_name', 'chalearn_15/Validation'),\n",
       "              ('full_path', 'image_1028.jpg'),\n",
       "              ('age', '25'),\n",
       "              ('std', '4.1606760000000005'),\n",
       "              ('ageGrp', '2')])]"
      ]
     },
     "execution_count": 23,
     "metadata": {},
     "output_type": "execute_result"
    }
   ],
   "source": [
    "import csv\n",
    "import math\n",
    "import random\n",
    "\n",
    "with open('/home/zarana/cnn2ranking/chalearn_15_validation_ageGrp_cleaned.csv') as csvfile:\n",
    "    mpg = list(csv.DictReader(csvfile))\n",
    "    \n",
    "mpg[:3] "
   ]
  },
  {
   "cell_type": "code",
   "execution_count": 24,
   "metadata": {},
   "outputs": [
    {
     "data": {
      "text/plain": [
       "1015"
      ]
     },
     "execution_count": 24,
     "metadata": {},
     "output_type": "execute_result"
    }
   ],
   "source": [
    "len(mpg)"
   ]
  },
  {
   "cell_type": "code",
   "execution_count": 25,
   "metadata": {},
   "outputs": [],
   "source": [
    "mpg1=[d for d in mpg if int(d['age'])>=7 and int(d['age'])<70]\n",
    "for d in mpg1:\n",
    "    age=int(d['age'])\n",
    "    if (age>=0 and age<23):\n",
    "        d['ageGrp']=0\n",
    "    elif (age>=23 and age<30):\n",
    "        d['ageGrp']=1\n",
    "    elif (age>=30 and age<38):\n",
    "        d['ageGrp']=2\n",
    "    else:\n",
    "        d['ageGrp']=3\n",
    "   "
   ]
  },
  {
   "cell_type": "code",
   "execution_count": 26,
   "metadata": {},
   "outputs": [
    {
     "data": {
      "text/plain": [
       "1001"
      ]
     },
     "execution_count": 26,
     "metadata": {},
     "output_type": "execute_result"
    }
   ],
   "source": [
    "len(mpg1)"
   ]
  },
  {
   "cell_type": "code",
   "execution_count": 27,
   "metadata": {},
   "outputs": [
    {
     "data": {
      "text/plain": [
       "OrderedDict([('db_name', 'chalearn_15/Validation'),\n",
       "             ('full_path', 'image_3568.jpg'),\n",
       "             ('age', '22'),\n",
       "             ('std', '5.048742'),\n",
       "             ('ageGrp', 0)])"
      ]
     },
     "execution_count": 27,
     "metadata": {},
     "output_type": "execute_result"
    }
   ],
   "source": [
    "mpg1[12]"
   ]
  },
  {
   "cell_type": "code",
   "execution_count": 28,
   "metadata": {},
   "outputs": [
    {
     "data": {
      "text/plain": [
       "1001"
      ]
     },
     "execution_count": 28,
     "metadata": {},
     "output_type": "execute_result"
    }
   ],
   "source": [
    "len(mpg1)"
   ]
  },
  {
   "cell_type": "code",
   "execution_count": 29,
   "metadata": {},
   "outputs": [
    {
     "data": {
      "text/plain": [
       "odict_keys(['db_name', 'full_path', 'age', 'std', 'ageGrp'])"
      ]
     },
     "execution_count": 29,
     "metadata": {},
     "output_type": "execute_result"
    }
   ],
   "source": [
    "keys = mpg1[0].keys()\n",
    "keys"
   ]
  },
  {
   "cell_type": "code",
   "execution_count": 30,
   "metadata": {},
   "outputs": [],
   "source": [
    "with open('/home/zarana/cnn2ranking/chalearn_15_validation_ageGrp_cleaned_4grp.csv', 'w') as output_file:\n",
    "    dict_writer = csv.DictWriter(output_file, keys)\n",
    "    dict_writer.writeheader()\n",
    "    dict_writer.writerows(mpg1)"
   ]
  },
  {
   "cell_type": "code",
   "execution_count": null,
   "metadata": {},
   "outputs": [],
   "source": []
  }
 ],
 "metadata": {
  "kernelspec": {
   "display_name": "Python 3",
   "language": "python",
   "name": "python3"
  },
  "language_info": {
   "codemirror_mode": {
    "name": "ipython",
    "version": 3
   },
   "file_extension": ".py",
   "mimetype": "text/x-python",
   "name": "python",
   "nbconvert_exporter": "python",
   "pygments_lexer": "ipython3",
   "version": "3.6.9"
  }
 },
 "nbformat": 4,
 "nbformat_minor": 4
}
