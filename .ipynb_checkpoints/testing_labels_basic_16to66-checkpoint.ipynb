{
 "cells": [
  {
   "cell_type": "code",
   "execution_count": null,
   "metadata": {
    "collapsed": true
   },
   "outputs": [],
   "source": [
    "#set path and mean file\n",
    "#%%capture\n",
    "import os\n",
    "import numpy as np\n",
    "import matplotlib.pyplot as plt\n",
    "%matplotlib inline\n",
    "\n",
    "from PIL import Image\n",
    "import glob\n",
    "\n",
    "caffe_root = '/home/Documents/Caffe/' \n",
    "import sys\n",
    "sys.path.insert(0, caffe_root + 'python')\n",
    "\n",
    "#os.environ['GLOG_minloglevel'] = '2'\n",
    "import caffe\n",
    "\n",
    "mean_filename='./mean.binaryproto'\n",
    "proto_data = open(mean_filename, \"rb\").read()\n",
    "a = caffe.io.caffe_pb2.BlobProto.FromString(proto_data)\n",
    "mean  = caffe.io.blobproto_to_array(a)[0]\n",
    "\n",
    "caffe.set_mode_gpu()"
   ]
  },
  {
   "cell_type": "code",
   "execution_count": null,
   "metadata": {},
   "outputs": [],
   "source": [
    "#generate output from all 50 basic networks for a given set of images\n",
    "\n",
    "labels = []\n",
    "for ii in range(50):\n",
    "    \n",
    "    curIdx = ii+16\n",
    "    age_net_pretrained='./basic_16to66/ot_'+str(curIdx)+'/basic_ot_'+str(curIdx)+'.caffemodel'\n",
    "    age_net_model_file='./basic_16to66/deploy_basic.prototxt'\n",
    "    age_net = caffe.Classifier(age_net_model_file, age_net_pretrained,\n",
    "                           mean=mean,\n",
    "                           channel_swap=(2,1,0),\n",
    "                           raw_scale=255,\n",
    "                           image_dims=(256, 256))\n",
    "\n",
    "    labels.append([])\n",
    "    for filename in sorted(glob.glob('./link_to_data/tr43k_te11k_16to66/album2_faces_crop_te11k/*.jpg')):\n",
    "        \n",
    "        im = caffe.io.load_image(filename)\n",
    "        prediction = age_net.predict([im])\n",
    "        label_tmp = prediction[0].argmax()\n",
    "        labels[ind_lb].append(label_tmp)"
   ]
  },
  {
   "cell_type": "code",
   "execution_count": null,
   "metadata": {},
   "outputs": [],
   "source": [
    "lb_all = np.array(labels) #binary labels\n",
    "lb_sum = np.sum(lb_all, axis=0) #aggregated labels\n",
    "lb_sum.shape"
   ]
  },
  {
   "cell_type": "code",
   "execution_count": null,
   "metadata": {},
   "outputs": [],
   "source": [
    "#save results to txt files\n",
    "np.savetxt('morph_te11k_results_bi.txt', lb_all, fmt='%d')\n",
    "\n",
    "np.savetxt('morph_te11k_results_aggregate.txt', lb_sum, fmt='%d')"
   ]
  },
  {
   "cell_type": "code",
   "execution_count": null,
   "metadata": {
    "collapsed": true
   },
   "outputs": [],
   "source": [
    "#compare with ture labels and calculate MAE\n",
    "\n",
    "load_in = np.genfromtxt('./link_to_data/tr43k_te11k_16to66/album2_faces_te11k_lb.txt', dtype=None)\n",
    "\n",
    "lb_true = []\n",
    "for i in range(len(load_in)):\n",
    "    lb_true.append(load_in[i][1])"
   ]
  },
  {
   "cell_type": "code",
   "execution_count": null,
   "metadata": {},
   "outputs": [],
   "source": [
    "lb_predict = lb_sum + 16\n",
    "\n",
    "MAE_all = sum(abs(lb_true-lb_predict))*1.0/len(lb_true)\n",
    "MAE_all"
   ]
  },
  {
   "cell_type": "code",
   "execution_count": null,
   "metadata": {
    "collapsed": true
   },
   "outputs": [],
   "source": []
  }
 ],
 "metadata": {
  "kernelspec": {
   "display_name": "Python 2",
   "language": "python",
   "name": "python2"
  },
  "language_info": {
   "codemirror_mode": {
    "name": "ipython",
    "version": 3
   },
   "file_extension": ".py",
   "mimetype": "text/x-python",
   "name": "python",
   "nbconvert_exporter": "python",
   "pygments_lexer": "ipython3",
   "version": "3.6.8"
  }
 },
 "nbformat": 4,
 "nbformat_minor": 1
}
