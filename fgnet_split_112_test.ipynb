{
 "cells": [
  {
   "cell_type": "code",
   "execution_count": 1,
   "metadata": {},
   "outputs": [
    {
     "data": {
      "text/plain": [
       "[OrderedDict([('db_name', 'fgnet'),\n",
       "              ('full_path', 'images/046A18.JPG'),\n",
       "              ('age', '18')]),\n",
       " OrderedDict([('db_name', 'fgnet'),\n",
       "              ('full_path', 'images/030A16.JPG'),\n",
       "              ('age', '16')]),\n",
       " OrderedDict([('db_name', 'fgnet'),\n",
       "              ('full_path', 'images/032A15.JPG'),\n",
       "              ('age', '15')])]"
      ]
     },
     "execution_count": 1,
     "metadata": {},
     "output_type": "execute_result"
    }
   ],
   "source": [
    "import csv\n",
    "import math\n",
    "import random\n",
    "\n",
    "with open('/home/zarana/cnn2ranking/fgnet_cleaned.csv') as csvfile:\n",
    "    mpg = list(csv.DictReader(csvfile))\n",
    "    \n",
    "mpg[:3] "
   ]
  },
  {
   "cell_type": "code",
   "execution_count": 2,
   "metadata": {},
   "outputs": [],
   "source": [
    " hash = {k:[] for k in range(70)}"
   ]
  },
  {
   "cell_type": "code",
   "execution_count": 3,
   "metadata": {},
   "outputs": [],
   "source": [
    "for index,d in enumerate(mpg):\n",
    "    hash[int(d['age'])].append(index)"
   ]
  },
  {
   "cell_type": "code",
   "execution_count": 4,
   "metadata": {},
   "outputs": [],
   "source": [
    "mpg1=[]\n",
    "mpg2=[]\n",
    "for key in range(56):\n",
    "    length=len(hash[key])\n",
    "    if(length>5):\n",
    "        test=round(0.1*length)\n",
    "    else:\n",
    "        test=1\n",
    "    train=length-test\n",
    "    test_sample=random.sample(range(0, length), test)\n",
    "    remove_test_sample=[]\n",
    "    for z in test_sample:\n",
    "        mpg1.append(mpg[hash[key][z]])\n",
    "        remove_test_sample.append(hash[key][z])\n",
    "    for y in remove_test_sample:\n",
    "        hash[key].remove(y)\n",
    "    for z in hash[key]:\n",
    "        mpg2.append(mpg[z])\n",
    "\n",
    "            \n",
    "for key in range(56,70):\n",
    "    for z in hash[key]:\n",
    "        mpg2.append(mpg[z])\n",
    "    "
   ]
  },
  {
   "cell_type": "code",
   "execution_count": 5,
   "metadata": {},
   "outputs": [],
   "source": [
    " hash = {k:[] for k in range(70)}"
   ]
  },
  {
   "cell_type": "code",
   "execution_count": 6,
   "metadata": {},
   "outputs": [],
   "source": [
    "for index,d in enumerate(mpg2):\n",
    "    hash[int(d['age'])].append(index)"
   ]
  },
  {
   "cell_type": "code",
   "execution_count": 7,
   "metadata": {},
   "outputs": [],
   "source": [
    "mpg3=[]\n",
    "mpg4=[]\n",
    "for key in range(46):\n",
    "    length=len(hash[key])\n",
    "    if(length>5):\n",
    "        val=round(0.1*length)\n",
    "    else:\n",
    "        val=1\n",
    "    train=length-val\n",
    "    val_sample=random.sample(range(0, length), val)\n",
    "    remove_val_sample=[]\n",
    "    for z in val_sample:\n",
    "        mpg3.append(mpg2[hash[key][z]])\n",
    "        remove_val_sample.append(hash[key][z])\n",
    "    for y in remove_val_sample:\n",
    "        hash[key].remove(y)\n",
    "    for z in hash[key]:\n",
    "        mpg4.append(mpg2[z])\n",
    "        \n",
    "for key in range(46,70):\n",
    "    for z in hash[key]:\n",
    "        mpg4.append(mpg2[z])\n"
   ]
  },
  {
   "cell_type": "code",
   "execution_count": 8,
   "metadata": {},
   "outputs": [],
   "source": [
    "for i in range(10):\n",
    "    random.shuffle(mpg1)\n",
    "    random.shuffle(mpg3)\n",
    "    random.shuffle(mpg4)"
   ]
  },
  {
   "cell_type": "code",
   "execution_count": 9,
   "metadata": {},
   "outputs": [
    {
     "data": {
      "text/plain": [
       "odict_keys(['db_name', 'full_path', 'age'])"
      ]
     },
     "execution_count": 9,
     "metadata": {},
     "output_type": "execute_result"
    }
   ],
   "source": [
    "label = mpg[0].keys()\n",
    "label"
   ]
  },
  {
   "cell_type": "code",
   "execution_count": 12,
   "metadata": {},
   "outputs": [
    {
     "data": {
      "text/plain": [
       "794"
      ]
     },
     "execution_count": 12,
     "metadata": {},
     "output_type": "execute_result"
    }
   ],
   "source": [
    "len(mpg4)"
   ]
  },
  {
   "cell_type": "code",
   "execution_count": 13,
   "metadata": {},
   "outputs": [],
   "source": [
    "with open('/home/zarana/cnn2ranking/fgnet_test.csv', 'w') as output_file:\n",
    "    dict_writer = csv.DictWriter(output_file, label)\n",
    "    dict_writer.writeheader()\n",
    "    dict_writer.writerows(mpg1)"
   ]
  },
  {
   "cell_type": "code",
   "execution_count": 14,
   "metadata": {},
   "outputs": [],
   "source": [
    "with open('/home/zarana/cnn2ranking/fgnet_val.csv', 'w') as output_file:\n",
    "    dict_writer = csv.DictWriter(output_file, label)\n",
    "    dict_writer.writeheader()\n",
    "    dict_writer.writerows(mpg3)"
   ]
  },
  {
   "cell_type": "code",
   "execution_count": 15,
   "metadata": {},
   "outputs": [],
   "source": [
    "with open('/home/zarana/cnn2ranking/fgnet_train.csv', 'w') as output_file:\n",
    "    dict_writer = csv.DictWriter(output_file, label)\n",
    "    dict_writer.writeheader()\n",
    "    dict_writer.writerows(mpg4)"
   ]
  },
  {
   "cell_type": "code",
   "execution_count": null,
   "metadata": {},
   "outputs": [],
   "source": []
  }
 ],
 "metadata": {
  "kernelspec": {
   "display_name": "Python 3",
   "language": "python",
   "name": "python3"
  },
  "language_info": {
   "codemirror_mode": {
    "name": "ipython",
    "version": 3
   },
   "file_extension": ".py",
   "mimetype": "text/x-python",
   "name": "python",
   "nbconvert_exporter": "python",
   "pygments_lexer": "ipython3",
   "version": "3.6.9"
  }
 },
 "nbformat": 4,
 "nbformat_minor": 4
}
