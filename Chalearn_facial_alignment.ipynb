{
 "cells": [
  {
   "cell_type": "code",
   "execution_count": 1,
   "metadata": {},
   "outputs": [],
   "source": [
    "import os\n",
    "import cv2\n",
    "import dlib\n",
    "import argparse\n",
    "import pandas as pd\n",
    "from tqdm import tqdm\n",
    "from multiprocessing import Pool"
   ]
  },
  {
   "cell_type": "code",
   "execution_count": 2,
   "metadata": {},
   "outputs": [],
   "source": [
    "predictor = dlib.shape_predictor('/home/zarana/Downloads/CNN2ELM/shape_predictor_5_face_landmarks.dat')"
   ]
  },
  {
   "cell_type": "code",
   "execution_count": 13,
   "metadata": {},
   "outputs": [],
   "source": [
    "def align_and_save(path: str):\n",
    "    \"\"\"\n",
    "    Get aligned face and save to disk\n",
    "\n",
    "    Parameters\n",
    "    ----------\n",
    "    path : string\n",
    "        path to image\n",
    "\n",
    "    Returns\n",
    "    -------\n",
    "    integer\n",
    "        flag to mark. 1 if success detect face, 0 if fail\n",
    "    \"\"\"\n",
    "    RES_DIR = '/home/zarana/cnn2ranking/chalearn_15/Train_aligned'\n",
    "    DIR='/home/zarana/cnn2ranking/chalearn_15/Train'\n",
    "    if os.path.exists(os.path.join(RES_DIR, path)):\n",
    "        return 1\n",
    "    flname = os.path.join(DIR, path)\n",
    "    image = dlib.load_rgb_image(flname)\n",
    "    detector = dlib.get_frontal_face_detector()\n",
    "    rects = detector(image, 0)\n",
    "    # if detect exactly 1 face, get aligned face\n",
    "    if len(rects) == 1:\n",
    "        shape = predictor(image, rects[0])\n",
    "        result = dlib.get_face_chip(image, shape, padding=0.4, size=150)\n",
    "        folder = RES_DIR\n",
    "        if not os.path.exists(folder):\n",
    "            os.makedirs(folder, exist_ok=True)\n",
    "        flname = os.path.join(RES_DIR, path)\n",
    "        if not os.path.exists(flname):\n",
    "            result = cv2.cvtColor(result, cv2.COLOR_BGRA2RGBA)\n",
    "            cv2.imwrite(flname, result)\n",
    "        return 1\n",
    "    return 0\n",
    "\n"
   ]
  },
  {
   "cell_type": "code",
   "execution_count": 11,
   "metadata": {},
   "outputs": [],
   "source": [
    "def main():\n",
    "    DATASET = 'chalearn_15'\n",
    "    data = pd.read_csv('/home/zarana/cnn2ranking/chalearn_15_train_ageGrp.csv')\n",
    "    WORKER = 2\n",
    "    # detector = dlib.get_frontal_face_detector()\n",
    "\n",
    "    paths = data['full_path'].values\n",
    "    print('Run face alignment...')\n",
    "    with Pool(processes=WORKER) as p:\n",
    "        res = []\n",
    "        max_ = len(paths)\n",
    "        with tqdm(total=max_) as pbar:\n",
    "            for i, j in tqdm(enumerate(p.imap(align_and_save, paths))):\n",
    "                pbar.update()\n",
    "                res.append(j)\n",
    "        data['flag'] = res\n",
    "\n",
    "        # create new db with only successfully detected face\n",
    "        data = data.loc[data['flag'] == 1, list(data)[:-1]]\n",
    "        data.to_csv('/home/zarana/cnn2ranking/chalearn_15_train_ageGrp_cleaned.csv', index=False)"
   ]
  },
  {
   "cell_type": "code",
   "execution_count": 12,
   "metadata": {
    "scrolled": true
   },
   "outputs": [
    {
     "name": "stdout",
     "output_type": "stream",
     "text": [
      "Run face alignment...\n"
     ]
    },
    {
     "name": "stderr",
     "output_type": "stream",
     "text": [
      "  0%|          | 0/1998 [00:00<?, ?it/s]\n",
      "  0%|          | 1/1998 [00:00<16:15,  2.05it/s]\n",
      "  0%|          | 3/1998 [00:00<13:42,  2.43it/s]\n",
      "  0%|          | 5/1998 [00:01<11:55,  2.78it/s]\n",
      "  0%|          | 7/1998 [00:01<10:23,  3.19it/s]\n",
      "  0%|          | 9/1998 [00:02<09:16,  3.58it/s]\n",
      "  1%|          | 11/1998 [00:02<08:39,  3.82it/s]\n",
      "  1%|          | 13/1998 [00:03<08:22,  3.95it/s]\n",
      "  1%|          | 15/1998 [00:03<08:35,  3.85it/s]\n",
      "  1%|          | 17/1998 [00:04<08:06,  4.07it/s]\n",
      "  1%|          | 19/1998 [00:04<08:04,  4.09it/s]\n",
      "  1%|          | 21/1998 [00:05<08:06,  4.07it/s]\n",
      "  1%|          | 23/1998 [00:05<07:55,  4.16it/s]\n",
      "  1%|▏         | 25/1998 [00:06<08:21,  3.93it/s]\n",
      "  1%|▏         | 27/1998 [00:06<08:30,  3.86it/s]\n",
      "  1%|▏         | 29/1998 [00:07<08:13,  3.99it/s]\n",
      "  2%|▏         | 31/1998 [00:07<07:44,  4.24it/s]\n",
      "  2%|▏         | 33/1998 [00:08<07:45,  4.22it/s]\n",
      "  2%|▏         | 35/1998 [00:08<07:46,  4.21it/s]\n",
      "  2%|▏         | 37/1998 [00:08<07:23,  4.43it/s]\n",
      "  2%|▏         | 39/1998 [00:09<07:05,  4.60it/s]\n",
      "  2%|▏         | 41/1998 [00:09<07:11,  4.54it/s]\n",
      "  2%|▏         | 43/1998 [00:10<07:19,  4.45it/s]\n",
      "  2%|▏         | 45/1998 [00:10<07:31,  4.32it/s]\n",
      "  2%|▏         | 47/1998 [00:11<07:30,  4.33it/s]\n",
      "  2%|▏         | 49/1998 [00:11<07:23,  4.39it/s]\n",
      "  3%|▎         | 51/1998 [00:12<08:14,  3.93it/s]\n",
      "  3%|▎         | 52/1998 [00:12<06:47,  4.78it/s]\n",
      "  3%|▎         | 53/1998 [00:12<10:26,  3.10it/s]\n",
      "  3%|▎         | 55/1998 [00:13<10:43,  3.02it/s]\n",
      "  3%|▎         | 56/1998 [00:13<08:30,  3.80it/s]\n",
      "  3%|▎         | 57/1998 [00:14<12:44,  2.54it/s]\n",
      "  3%|▎         | 59/1998 [00:15<12:06,  2.67it/s]\n",
      "  3%|▎         | 61/1998 [00:15<11:27,  2.82it/s]\n",
      "  3%|▎         | 63/1998 [00:16<10:35,  3.04it/s]\n",
      "63it [00:16,  3.04it/s]\u001b[A\n",
      "  3%|▎         | 64/1998 [00:16<08:21,  3.86it/s]\n"
     ]
    },
    {
     "ename": "KeyboardInterrupt",
     "evalue": "",
     "output_type": "error",
     "traceback": [
      "\u001b[0;31m---------------------------------------------------------------------------\u001b[0m",
      "\u001b[0;31mIndexError\u001b[0m                                Traceback (most recent call last)",
      "\u001b[0;32m/usr/lib/python3.6/multiprocessing/pool.py\u001b[0m in \u001b[0;36mnext\u001b[0;34m(self, timeout)\u001b[0m\n\u001b[1;32m    719\u001b[0m             \u001b[0;32mtry\u001b[0m\u001b[0;34m:\u001b[0m\u001b[0;34m\u001b[0m\u001b[0;34m\u001b[0m\u001b[0m\n\u001b[0;32m--> 720\u001b[0;31m                 \u001b[0mitem\u001b[0m \u001b[0;34m=\u001b[0m \u001b[0mself\u001b[0m\u001b[0;34m.\u001b[0m\u001b[0m_items\u001b[0m\u001b[0;34m.\u001b[0m\u001b[0mpopleft\u001b[0m\u001b[0;34m(\u001b[0m\u001b[0;34m)\u001b[0m\u001b[0;34m\u001b[0m\u001b[0;34m\u001b[0m\u001b[0m\n\u001b[0m\u001b[1;32m    721\u001b[0m             \u001b[0;32mexcept\u001b[0m \u001b[0mIndexError\u001b[0m\u001b[0;34m:\u001b[0m\u001b[0;34m\u001b[0m\u001b[0;34m\u001b[0m\u001b[0m\n",
      "\u001b[0;31mIndexError\u001b[0m: pop from an empty deque",
      "\nDuring handling of the above exception, another exception occurred:\n",
      "\u001b[0;31mKeyboardInterrupt\u001b[0m                         Traceback (most recent call last)",
      "\u001b[0;32m<ipython-input-12-c7bc734e5e35>\u001b[0m in \u001b[0;36m<module>\u001b[0;34m\u001b[0m\n\u001b[1;32m      1\u001b[0m \u001b[0;32mif\u001b[0m \u001b[0m__name__\u001b[0m \u001b[0;34m==\u001b[0m \u001b[0;34m'__main__'\u001b[0m\u001b[0;34m:\u001b[0m\u001b[0;34m\u001b[0m\u001b[0;34m\u001b[0m\u001b[0m\n\u001b[0;32m----> 2\u001b[0;31m     \u001b[0mmain\u001b[0m\u001b[0;34m(\u001b[0m\u001b[0;34m)\u001b[0m\u001b[0;34m\u001b[0m\u001b[0;34m\u001b[0m\u001b[0m\n\u001b[0m",
      "\u001b[0;32m<ipython-input-11-761918b018fd>\u001b[0m in \u001b[0;36mmain\u001b[0;34m()\u001b[0m\n\u001b[1;32m     11\u001b[0m         \u001b[0mmax_\u001b[0m \u001b[0;34m=\u001b[0m \u001b[0mlen\u001b[0m\u001b[0;34m(\u001b[0m\u001b[0mpaths\u001b[0m\u001b[0;34m)\u001b[0m\u001b[0;34m\u001b[0m\u001b[0;34m\u001b[0m\u001b[0m\n\u001b[1;32m     12\u001b[0m         \u001b[0;32mwith\u001b[0m \u001b[0mtqdm\u001b[0m\u001b[0;34m(\u001b[0m\u001b[0mtotal\u001b[0m\u001b[0;34m=\u001b[0m\u001b[0mmax_\u001b[0m\u001b[0;34m)\u001b[0m \u001b[0;32mas\u001b[0m \u001b[0mpbar\u001b[0m\u001b[0;34m:\u001b[0m\u001b[0;34m\u001b[0m\u001b[0;34m\u001b[0m\u001b[0m\n\u001b[0;32m---> 13\u001b[0;31m             \u001b[0;32mfor\u001b[0m \u001b[0mi\u001b[0m\u001b[0;34m,\u001b[0m \u001b[0mj\u001b[0m \u001b[0;32min\u001b[0m \u001b[0mtqdm\u001b[0m\u001b[0;34m(\u001b[0m\u001b[0menumerate\u001b[0m\u001b[0;34m(\u001b[0m\u001b[0mp\u001b[0m\u001b[0;34m.\u001b[0m\u001b[0mimap\u001b[0m\u001b[0;34m(\u001b[0m\u001b[0malign_and_save\u001b[0m\u001b[0;34m,\u001b[0m \u001b[0mpaths\u001b[0m\u001b[0;34m)\u001b[0m\u001b[0;34m)\u001b[0m\u001b[0;34m)\u001b[0m\u001b[0;34m:\u001b[0m\u001b[0;34m\u001b[0m\u001b[0;34m\u001b[0m\u001b[0m\n\u001b[0m\u001b[1;32m     14\u001b[0m                 \u001b[0mpbar\u001b[0m\u001b[0;34m.\u001b[0m\u001b[0mupdate\u001b[0m\u001b[0;34m(\u001b[0m\u001b[0;34m)\u001b[0m\u001b[0;34m\u001b[0m\u001b[0;34m\u001b[0m\u001b[0m\n\u001b[1;32m     15\u001b[0m                 \u001b[0mres\u001b[0m\u001b[0;34m.\u001b[0m\u001b[0mappend\u001b[0m\u001b[0;34m(\u001b[0m\u001b[0mj\u001b[0m\u001b[0;34m)\u001b[0m\u001b[0;34m\u001b[0m\u001b[0;34m\u001b[0m\u001b[0m\n",
      "\u001b[0;32m~/.local/lib/python3.6/site-packages/tqdm/std.py\u001b[0m in \u001b[0;36m__iter__\u001b[0;34m(self)\u001b[0m\n\u001b[1;32m   1106\u001b[0m                 fp_write=getattr(self.fp, 'write', sys.stderr.write))\n\u001b[1;32m   1107\u001b[0m \u001b[0;34m\u001b[0m\u001b[0m\n\u001b[0;32m-> 1108\u001b[0;31m         \u001b[0;32mfor\u001b[0m \u001b[0mobj\u001b[0m \u001b[0;32min\u001b[0m \u001b[0miterable\u001b[0m\u001b[0;34m:\u001b[0m\u001b[0;34m\u001b[0m\u001b[0;34m\u001b[0m\u001b[0m\n\u001b[0m\u001b[1;32m   1109\u001b[0m             \u001b[0;32myield\u001b[0m \u001b[0mobj\u001b[0m\u001b[0;34m\u001b[0m\u001b[0;34m\u001b[0m\u001b[0m\n\u001b[1;32m   1110\u001b[0m             \u001b[0;31m# Update and possibly print the progressbar.\u001b[0m\u001b[0;34m\u001b[0m\u001b[0;34m\u001b[0m\u001b[0;34m\u001b[0m\u001b[0m\n",
      "\u001b[0;32m/usr/lib/python3.6/multiprocessing/pool.py\u001b[0m in \u001b[0;36mnext\u001b[0;34m(self, timeout)\u001b[0m\n\u001b[1;32m    722\u001b[0m                 \u001b[0;32mif\u001b[0m \u001b[0mself\u001b[0m\u001b[0;34m.\u001b[0m\u001b[0m_index\u001b[0m \u001b[0;34m==\u001b[0m \u001b[0mself\u001b[0m\u001b[0;34m.\u001b[0m\u001b[0m_length\u001b[0m\u001b[0;34m:\u001b[0m\u001b[0;34m\u001b[0m\u001b[0;34m\u001b[0m\u001b[0m\n\u001b[1;32m    723\u001b[0m                     \u001b[0;32mraise\u001b[0m \u001b[0mStopIteration\u001b[0m\u001b[0;34m\u001b[0m\u001b[0;34m\u001b[0m\u001b[0m\n\u001b[0;32m--> 724\u001b[0;31m                 \u001b[0mself\u001b[0m\u001b[0;34m.\u001b[0m\u001b[0m_cond\u001b[0m\u001b[0;34m.\u001b[0m\u001b[0mwait\u001b[0m\u001b[0;34m(\u001b[0m\u001b[0mtimeout\u001b[0m\u001b[0;34m)\u001b[0m\u001b[0;34m\u001b[0m\u001b[0;34m\u001b[0m\u001b[0m\n\u001b[0m\u001b[1;32m    725\u001b[0m                 \u001b[0;32mtry\u001b[0m\u001b[0;34m:\u001b[0m\u001b[0;34m\u001b[0m\u001b[0;34m\u001b[0m\u001b[0m\n\u001b[1;32m    726\u001b[0m                     \u001b[0mitem\u001b[0m \u001b[0;34m=\u001b[0m \u001b[0mself\u001b[0m\u001b[0;34m.\u001b[0m\u001b[0m_items\u001b[0m\u001b[0;34m.\u001b[0m\u001b[0mpopleft\u001b[0m\u001b[0;34m(\u001b[0m\u001b[0;34m)\u001b[0m\u001b[0;34m\u001b[0m\u001b[0;34m\u001b[0m\u001b[0m\n",
      "\u001b[0;32m/usr/lib/python3.6/threading.py\u001b[0m in \u001b[0;36mwait\u001b[0;34m(self, timeout)\u001b[0m\n\u001b[1;32m    293\u001b[0m         \u001b[0;32mtry\u001b[0m\u001b[0;34m:\u001b[0m    \u001b[0;31m# restore state no matter what (e.g., KeyboardInterrupt)\u001b[0m\u001b[0;34m\u001b[0m\u001b[0;34m\u001b[0m\u001b[0m\n\u001b[1;32m    294\u001b[0m             \u001b[0;32mif\u001b[0m \u001b[0mtimeout\u001b[0m \u001b[0;32mis\u001b[0m \u001b[0;32mNone\u001b[0m\u001b[0;34m:\u001b[0m\u001b[0;34m\u001b[0m\u001b[0;34m\u001b[0m\u001b[0m\n\u001b[0;32m--> 295\u001b[0;31m                 \u001b[0mwaiter\u001b[0m\u001b[0;34m.\u001b[0m\u001b[0macquire\u001b[0m\u001b[0;34m(\u001b[0m\u001b[0;34m)\u001b[0m\u001b[0;34m\u001b[0m\u001b[0;34m\u001b[0m\u001b[0m\n\u001b[0m\u001b[1;32m    296\u001b[0m                 \u001b[0mgotit\u001b[0m \u001b[0;34m=\u001b[0m \u001b[0;32mTrue\u001b[0m\u001b[0;34m\u001b[0m\u001b[0;34m\u001b[0m\u001b[0m\n\u001b[1;32m    297\u001b[0m             \u001b[0;32melse\u001b[0m\u001b[0;34m:\u001b[0m\u001b[0;34m\u001b[0m\u001b[0;34m\u001b[0m\u001b[0m\n",
      "\u001b[0;31mKeyboardInterrupt\u001b[0m: "
     ]
    }
   ],
   "source": [
    "if __name__ == '__main__':\n",
    "    main()"
   ]
  },
  {
   "cell_type": "code",
   "execution_count": null,
   "metadata": {},
   "outputs": [],
   "source": []
  }
 ],
 "metadata": {
  "kernelspec": {
   "display_name": "Python 3",
   "language": "python",
   "name": "python3"
  },
  "language_info": {
   "codemirror_mode": {
    "name": "ipython",
    "version": 3
   },
   "file_extension": ".py",
   "mimetype": "text/x-python",
   "name": "python",
   "nbconvert_exporter": "python",
   "pygments_lexer": "ipython3",
   "version": "3.6.9"
  }
 },
 "nbformat": 4,
 "nbformat_minor": 4
}
