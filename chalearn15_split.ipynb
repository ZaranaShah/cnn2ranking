{
 "cells": [
  {
   "cell_type": "code",
   "execution_count": 105,
   "metadata": {},
   "outputs": [
    {
     "data": {
      "text/plain": [
       "[OrderedDict([('db_name', 'chalearn_15/Train'),\n",
       "              ('full_path', 'image_4797.jpg'),\n",
       "              ('age', '21'),\n",
       "              ('std', '4.026539'),\n",
       "              ('ageGrp', '1')]),\n",
       " OrderedDict([('db_name', 'chalearn_15/Train'),\n",
       "              ('full_path', 'image_3532.jpg'),\n",
       "              ('age', '21'),\n",
       "              ('std', '5.26745'),\n",
       "              ('ageGrp', '1')]),\n",
       " OrderedDict([('db_name', 'chalearn_15/Train'),\n",
       "              ('full_path', 'image_3720.jpg'),\n",
       "              ('age', '28'),\n",
       "              ('std', '3.5697419999999997'),\n",
       "              ('ageGrp', '2')])]"
      ]
     },
     "execution_count": 105,
     "metadata": {},
     "output_type": "execute_result"
    }
   ],
   "source": [
    "import csv\n",
    "import math\n",
    "import random\n",
    "\n",
    "with open('/home/zarana/cnn2ranking/chalearn_15_train_ageGrp_cleaned.csv') as csvfile:\n",
    "    mpg = list(csv.DictReader(csvfile))\n",
    "    \n",
    "mpg[:3] "
   ]
  },
  {
   "cell_type": "code",
   "execution_count": 106,
   "metadata": {},
   "outputs": [
    {
     "data": {
      "text/plain": [
       "2227"
      ]
     },
     "execution_count": 106,
     "metadata": {},
     "output_type": "execute_result"
    }
   ],
   "source": [
    "len(mpg)"
   ]
  },
  {
   "cell_type": "code",
   "execution_count": 107,
   "metadata": {},
   "outputs": [],
   "source": [
    " hash = {k:[] for k in range(70)}"
   ]
  },
  {
   "cell_type": "code",
   "execution_count": 108,
   "metadata": {},
   "outputs": [],
   "source": [
    "for index,d in enumerate(mpg):\n",
    "    if int(d['age'])<70:\n",
    "        hash[int(d['age'])].append(index)"
   ]
  },
  {
   "cell_type": "code",
   "execution_count": 109,
   "metadata": {},
   "outputs": [
    {
     "data": {
      "text/plain": [
       "2219"
      ]
     },
     "execution_count": 109,
     "metadata": {},
     "output_type": "execute_result"
    }
   ],
   "source": [
    "count=0\n",
    "for key in range(70):\n",
    "    length=len(hash[key])\n",
    "    count=count+length\n",
    "    \n",
    "count"
   ]
  },
  {
   "cell_type": "code",
   "execution_count": 110,
   "metadata": {
    "scrolled": true
   },
   "outputs": [],
   "source": [
    "mpg1=[]\n",
    "mpg2=[]\n",
    "for key in range(70):\n",
    "    length=len(hash[key])\n",
    "    if(length>9):\n",
    "        test=round(0.1*length)\n",
    "    else:\n",
    "        test=0\n",
    "    train=length-test\n",
    "    test_sample=random.sample(range(0, length), test)\n",
    "    remove_test_sample=[]\n",
    "    for z in test_sample:\n",
    "        mpg1.append(mpg[hash[key][z]])\n",
    "        remove_test_sample.append(hash[key][z])\n",
    "    for y in remove_test_sample:\n",
    "        hash[key].remove(y)\n",
    "    for z in hash[key]:\n",
    "        mpg2.append(mpg[z])\n",
    "\n",
    "            "
   ]
  },
  {
   "cell_type": "code",
   "execution_count": 113,
   "metadata": {},
   "outputs": [
    {
     "data": {
      "text/plain": [
       "215"
      ]
     },
     "execution_count": 113,
     "metadata": {},
     "output_type": "execute_result"
    }
   ],
   "source": [
    "len(mpg1)"
   ]
  },
  {
   "cell_type": "code",
   "execution_count": 114,
   "metadata": {},
   "outputs": [
    {
     "data": {
      "text/plain": [
       "2004"
      ]
     },
     "execution_count": 114,
     "metadata": {},
     "output_type": "execute_result"
    }
   ],
   "source": [
    "len(mpg2)"
   ]
  },
  {
   "cell_type": "code",
   "execution_count": 115,
   "metadata": {},
   "outputs": [],
   "source": [
    "for i in range(10):\n",
    "    random.shuffle(mpg1)\n",
    "    random.shuffle(mpg2)"
   ]
  },
  {
   "cell_type": "code",
   "execution_count": 116,
   "metadata": {},
   "outputs": [
    {
     "data": {
      "text/plain": [
       "odict_keys(['db_name', 'full_path', 'age', 'std', 'ageGrp'])"
      ]
     },
     "execution_count": 116,
     "metadata": {},
     "output_type": "execute_result"
    }
   ],
   "source": [
    "label = mpg[0].keys()\n",
    "label"
   ]
  },
  {
   "cell_type": "code",
   "execution_count": 117,
   "metadata": {},
   "outputs": [],
   "source": [
    "with open('/home/zarana/cnn2ranking/chalearn_15_train_ageGrp_cleaned_val.csv', 'w') as output_file:\n",
    "    dict_writer = csv.DictWriter(output_file, label)\n",
    "    dict_writer.writeheader()\n",
    "    dict_writer.writerows(mpg1)"
   ]
  },
  {
   "cell_type": "code",
   "execution_count": 118,
   "metadata": {},
   "outputs": [],
   "source": [
    "with open('/home/zarana/cnn2ranking/chalearn_15_train_ageGrp_cleaned_train.csv', 'w') as output_file:\n",
    "    dict_writer = csv.DictWriter(output_file, label)\n",
    "    dict_writer.writeheader()\n",
    "    dict_writer.writerows(mpg2)"
   ]
  },
  {
   "cell_type": "code",
   "execution_count": null,
   "metadata": {},
   "outputs": [],
   "source": []
  }
 ],
 "metadata": {
  "kernelspec": {
   "display_name": "Python 3",
   "language": "python",
   "name": "python3"
  },
  "language_info": {
   "codemirror_mode": {
    "name": "ipython",
    "version": 3
   },
   "file_extension": ".py",
   "mimetype": "text/x-python",
   "name": "python",
   "nbconvert_exporter": "python",
   "pygments_lexer": "ipython3",
   "version": "3.6.9"
  }
 },
 "nbformat": 4,
 "nbformat_minor": 4
}
