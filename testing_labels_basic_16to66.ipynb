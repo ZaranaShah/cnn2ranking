{
 "cells": [
  {
   "cell_type": "code",
   "execution_count": 32,
   "metadata": {},
   "outputs": [],
   "source": [
    "#set path and mean file\n",
    "#%%capture\n",
    "import os\n",
    "import numpy as np\n",
    "import matplotlib.pyplot as plt\n",
    "%matplotlib inline\n",
    "\n",
    "from PIL import Image\n",
    "import glob\n",
    "\n",
    "caffe_root = './caffe/' \n",
    "import sys\n",
    "sys.path.insert(0, caffe_root + 'python')\n",
    "import caffe\n",
    "\n",
    "plt.rcParams['figure.figsize'] = (10, 10)\n",
    "plt.rcParams['image.interpolation'] = 'nearest'\n",
    "plt.rcParams['image.cmap'] = 'gray'\n",
    "\n",
    "mean_filename_female='./mean_image_female/mean.binaryproto'\n",
    "mean_filename_male='./mean_image_male/mean.binaryproto'\n",
    "\n",
    "proto_data_female = open(mean_filename_female, \"rb\").read()\n",
    "proto_data_male = open(mean_filename_male, \"rb\").read()\n",
    "\n",
    "a = caffe.io.caffe_pb2.BlobProto.FromString(proto_data_female)\n",
    "mean_female  = caffe.io.blobproto_to_array(a)[0]\n",
    "\n",
    "a = caffe.io.caffe_pb2.BlobProto.FromString(proto_data_male)\n",
    "mean_male  = caffe.io.blobproto_to_array(a)[0]\n",
    "\n",
    "caffe.set_mode_cpu()"
   ]
  },
  {
   "cell_type": "code",
   "execution_count": 36,
   "metadata": {},
   "outputs": [
    {
     "ename": "RuntimeError",
     "evalue": "Could not open file ./home/asus/Downloads/cnn2ranking/folds/train_val_txt_files_per_ranking/13_male.caffemodel",
     "output_type": "error",
     "traceback": [
      "\u001b[0;31m---------------------------------------------------------------------------\u001b[0m",
      "\u001b[0;31mRuntimeError\u001b[0m                              Traceback (most recent call last)",
      "\u001b[0;32m<ipython-input-36-8d3fd983babf>\u001b[0m in \u001b[0;36m<module>\u001b[0;34m()\u001b[0m\n\u001b[1;32m     11\u001b[0m                        \u001b[0mchannel_swap\u001b[0m\u001b[0;34m=\u001b[0m\u001b[0;34m(\u001b[0m\u001b[0;36m2\u001b[0m\u001b[0;34m,\u001b[0m\u001b[0;36m1\u001b[0m\u001b[0;34m,\u001b[0m\u001b[0;36m0\u001b[0m\u001b[0;34m)\u001b[0m\u001b[0;34m,\u001b[0m\u001b[0;34m\u001b[0m\u001b[0;34m\u001b[0m\u001b[0m\n\u001b[1;32m     12\u001b[0m                        \u001b[0mraw_scale\u001b[0m\u001b[0;34m=\u001b[0m\u001b[0;36m255\u001b[0m\u001b[0;34m,\u001b[0m\u001b[0;34m\u001b[0m\u001b[0;34m\u001b[0m\u001b[0m\n\u001b[0;32m---> 13\u001b[0;31m                        image_dims=(256, 256))\n\u001b[0m\u001b[1;32m     14\u001b[0m \u001b[0;34m\u001b[0m\u001b[0m\n\u001b[1;32m     15\u001b[0m     \u001b[0mlabels\u001b[0m\u001b[0;34m.\u001b[0m\u001b[0mappend\u001b[0m\u001b[0;34m(\u001b[0m\u001b[0;34m[\u001b[0m\u001b[0;34m]\u001b[0m\u001b[0;34m)\u001b[0m\u001b[0;34m\u001b[0m\u001b[0;34m\u001b[0m\u001b[0m\n",
      "\u001b[0;32m/usr/lib/python3/dist-packages/caffe/classifier.py\u001b[0m in \u001b[0;36m__init__\u001b[0;34m(self, model_file, pretrained_file, image_dims, mean, input_scale, raw_scale, channel_swap)\u001b[0m\n\u001b[1;32m     24\u001b[0m                  \u001b[0mmean\u001b[0m\u001b[0;34m=\u001b[0m\u001b[0;32mNone\u001b[0m\u001b[0;34m,\u001b[0m \u001b[0minput_scale\u001b[0m\u001b[0;34m=\u001b[0m\u001b[0;32mNone\u001b[0m\u001b[0;34m,\u001b[0m \u001b[0mraw_scale\u001b[0m\u001b[0;34m=\u001b[0m\u001b[0;32mNone\u001b[0m\u001b[0;34m,\u001b[0m\u001b[0;34m\u001b[0m\u001b[0;34m\u001b[0m\u001b[0m\n\u001b[1;32m     25\u001b[0m                  channel_swap=None):\n\u001b[0;32m---> 26\u001b[0;31m         \u001b[0mcaffe\u001b[0m\u001b[0;34m.\u001b[0m\u001b[0mNet\u001b[0m\u001b[0;34m.\u001b[0m\u001b[0m__init__\u001b[0m\u001b[0;34m(\u001b[0m\u001b[0mself\u001b[0m\u001b[0;34m,\u001b[0m \u001b[0mmodel_file\u001b[0m\u001b[0;34m,\u001b[0m \u001b[0mpretrained_file\u001b[0m\u001b[0;34m,\u001b[0m \u001b[0mcaffe\u001b[0m\u001b[0;34m.\u001b[0m\u001b[0mTEST\u001b[0m\u001b[0;34m)\u001b[0m\u001b[0;34m\u001b[0m\u001b[0;34m\u001b[0m\u001b[0m\n\u001b[0m\u001b[1;32m     27\u001b[0m \u001b[0;34m\u001b[0m\u001b[0m\n\u001b[1;32m     28\u001b[0m         \u001b[0;31m# configure pre-processing\u001b[0m\u001b[0;34m\u001b[0m\u001b[0;34m\u001b[0m\u001b[0;34m\u001b[0m\u001b[0m\n",
      "\u001b[0;31mRuntimeError\u001b[0m: Could not open file ./home/asus/Downloads/cnn2ranking/folds/train_val_txt_files_per_ranking/13_male.caffemodel"
     ]
    }
   ],
   "source": [
    "#generate output from all 50 basic networks for a given set of images\n",
    "\n",
    "labels = []\n",
    "for ii in range(1):\n",
    "    \n",
    "    curIdx = ii+13\n",
    "    age_net_pretrained_male='home/asus/Downloads/cnn2ranking/folds/train_val_txt_files_per_ranking/13_male.caffemodel'\n",
    "    age_net_model_file='/home/asus/Downloads/cnn2ranking/folds/train_val_txt_files_per_ranking/deploy.prototxt'\n",
    "    age_net = caffe.Classifier(age_net_model_file, age_net_pretrained_male,\n",
    "                       mean=mean_male,\n",
    "                       channel_swap=(2,1,0),\n",
    "                       raw_scale=255,\n",
    "                       image_dims=(256, 256))\n",
    "\n",
    "    labels.append([])\n",
    "    #for filename in sorted(glob.glob('/home/asus/cnn2ranking/wiki_crop/01/595801_1967-09-09_2009.jpg')):\n",
    "        \n",
    "    #    im = caffe.io.load_image(filename)\n",
    "     #   prediction = age_net.predict([im])\n",
    "     #   label_tmp = prediction[0].argmax()\n",
    "     #   labels[ind_lb].append(label_tmp)"
   ]
  },
  {
   "cell_type": "code",
   "execution_count": null,
   "metadata": {},
   "outputs": [],
   "source": [
    "lb_all = np.array(labels) #binary labels\n",
    "lb_sum = np.sum(lb_all, axis=0) #aggregated labels\n",
    "lb_sum.shape"
   ]
  },
  {
   "cell_type": "code",
   "execution_count": null,
   "metadata": {},
   "outputs": [],
   "source": [
    "#save results to txt files\n",
    "np.savetxt('morph_te11k_results_bi.txt', lb_all, fmt='%d')\n",
    "\n",
    "np.savetxt('morph_te11k_results_aggregate.txt', lb_sum, fmt='%d')"
   ]
  },
  {
   "cell_type": "code",
   "execution_count": null,
   "metadata": {
    "collapsed": true
   },
   "outputs": [],
   "source": [
    "#compare with ture labels and calculate MAE\n",
    "\n",
    "load_in = np.genfromtxt('./link_to_data/tr43k_te11k_16to66/album2_faces_te11k_lb.txt', dtype=None)\n",
    "\n",
    "lb_true = []\n",
    "for i in range(len(load_in)):\n",
    "    lb_true.append(load_in[i][1])"
   ]
  },
  {
   "cell_type": "code",
   "execution_count": null,
   "metadata": {},
   "outputs": [],
   "source": [
    "lb_predict = lb_sum + 16\n",
    "\n",
    "MAE_all = sum(abs(lb_true-lb_predict))*1.0/len(lb_true)\n",
    "MAE_all"
   ]
  },
  {
   "cell_type": "code",
   "execution_count": null,
   "metadata": {
    "collapsed": true
   },
   "outputs": [],
   "source": []
  }
 ],
 "metadata": {
  "kernelspec": {
   "display_name": "Python 2",
   "language": "python",
   "name": "python2"
  },
  "language_info": {
   "codemirror_mode": {
    "name": "ipython",
    "version": 3
   },
   "file_extension": ".py",
   "mimetype": "text/x-python",
   "name": "python",
   "nbconvert_exporter": "python",
   "pygments_lexer": "ipython3",
   "version": "3.6.8"
  }
 },
 "nbformat": 4,
 "nbformat_minor": 1
}
