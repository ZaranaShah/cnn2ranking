{
 "cells": [
  {
   "cell_type": "code",
   "execution_count": 56,
   "metadata": {},
   "outputs": [
    {
     "data": {
      "text/plain": [
       "[['image_3300.jpg', '31', '5.032721'],\n",
       " ['image_3939.jpg', '31', '5.240763'],\n",
       " ['image_1028.jpg', '25', '4.160676']]"
      ]
     },
     "execution_count": 56,
     "metadata": {},
     "output_type": "execute_result"
    }
   ],
   "source": [
    "import csv\n",
    "with open('/home/zarana/cnn2ranking/chalearn_15/ValidationLabels/Validation.csv') as csvfile:\n",
    "    mpg = list(csv.reader(csvfile,delimiter=';'))\n",
    "    \n",
    "mpg[:3]"
   ]
  },
  {
   "cell_type": "code",
   "execution_count": 57,
   "metadata": {},
   "outputs": [
    {
     "data": {
      "text/plain": [
       "1136"
      ]
     },
     "execution_count": 57,
     "metadata": {},
     "output_type": "execute_result"
    }
   ],
   "source": [
    "len(mpg)"
   ]
  },
  {
   "cell_type": "code",
   "execution_count": 58,
   "metadata": {},
   "outputs": [
    {
     "data": {
      "text/plain": [
       "'image_3939.jpg'"
      ]
     },
     "execution_count": 58,
     "metadata": {},
     "output_type": "execute_result"
    }
   ],
   "source": [
    "mpg[1][0]"
   ]
  },
  {
   "cell_type": "code",
   "execution_count": 59,
   "metadata": {},
   "outputs": [],
   "source": [
    "mpg1=[]\n",
    "for i in range(len(mpg)):\n",
    "    l=[]\n",
    "    l.append('chalearn_15/Validation')\n",
    "    l.append(mpg[i][0])\n",
    "    l.append(mpg[i][1])\n",
    "    l.append(mpg[i][2])\n",
    "    mpg1.append(l)"
   ]
  },
  {
   "cell_type": "code",
   "execution_count": 60,
   "metadata": {},
   "outputs": [
    {
     "data": {
      "text/plain": [
       "[['chalearn_15/Validation', 'image_3300.jpg', '31', '5.032721'],\n",
       " ['chalearn_15/Validation', 'image_3939.jpg', '31', '5.240763'],\n",
       " ['chalearn_15/Validation', 'image_1028.jpg', '25', '4.160676']]"
      ]
     },
     "execution_count": 60,
     "metadata": {},
     "output_type": "execute_result"
    }
   ],
   "source": [
    "mpg1[:3]"
   ]
  },
  {
   "cell_type": "code",
   "execution_count": 61,
   "metadata": {},
   "outputs": [
    {
     "data": {
      "text/plain": [
       "1136"
      ]
     },
     "execution_count": 61,
     "metadata": {},
     "output_type": "execute_result"
    }
   ],
   "source": [
    "len(mpg)"
   ]
  },
  {
   "cell_type": "code",
   "execution_count": 62,
   "metadata": {},
   "outputs": [],
   "source": [
    "with open('/home/zarana/cnn2ranking/chalearn_15_validation.csv', mode='w') as output_file:\n",
    "    writer = csv.writer(output_file, delimiter=',')\n",
    "    writer.writerow(['db_name', 'full_path', 'age' ,'std'])\n",
    "    for i in range(len(mpg1)):\n",
    "        writer.writerow(mpg1[i])\n",
    "    \n"
   ]
  },
  {
   "cell_type": "code",
   "execution_count": null,
   "metadata": {},
   "outputs": [],
   "source": []
  }
 ],
 "metadata": {
  "kernelspec": {
   "display_name": "Python 3",
   "language": "python",
   "name": "python3"
  },
  "language_info": {
   "codemirror_mode": {
    "name": "ipython",
    "version": 3
   },
   "file_extension": ".py",
   "mimetype": "text/x-python",
   "name": "python",
   "nbconvert_exporter": "python",
   "pygments_lexer": "ipython3",
   "version": "3.6.9"
  }
 },
 "nbformat": 4,
 "nbformat_minor": 4
}
