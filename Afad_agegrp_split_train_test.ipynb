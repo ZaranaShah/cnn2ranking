{
 "cells": [
  {
   "cell_type": "code",
   "execution_count": 1,
   "metadata": {},
   "outputs": [
    {
     "data": {
      "text/plain": [
       "[OrderedDict([('db_name', 'AFAD'),\n",
       "              ('full_path', '19/111/274165-0.jpg'),\n",
       "              ('age', '19'),\n",
       "              ('gender', '1')]),\n",
       " OrderedDict([('db_name', 'AFAD'),\n",
       "              ('full_path', '22/111/175927-1.jpg'),\n",
       "              ('age', '22'),\n",
       "              ('gender', '1')]),\n",
       " OrderedDict([('db_name', 'AFAD'),\n",
       "              ('full_path', '19/112/255612-0.jpg'),\n",
       "              ('age', '19'),\n",
       "              ('gender', '0')])]"
      ]
     },
     "execution_count": 1,
     "metadata": {},
     "output_type": "execute_result"
    }
   ],
   "source": [
    "import csv\n",
    "import math\n",
    "import random\n",
    "\n",
    "with open('/home/zarana/cnn2ranking/AfAD_cleaned.csv') as csvfile:\n",
    "    mpg = list(csv.DictReader(csvfile))\n",
    "    \n",
    "mpg[:3] "
   ]
  },
  {
   "cell_type": "code",
   "execution_count": 2,
   "metadata": {},
   "outputs": [],
   "source": [
    "mpg1=mpg\n",
    "for d in mpg1:\n",
    "    age=d['age']\n",
    "    if(int(age)>=18 and int(age)<22): #8\n",
    "        d['ageGrp']= 0\n",
    "    elif (int(age)>=22 and int(age)<26): #7\n",
    "        d['ageGrp']= 1\n",
    "    elif (int(age)>=26 and int(age)<32): #10\n",
    "        d['ageGrp']= 2\n",
    "    elif (int(age)>=32 and int(age)<40): #10\n",
    "        d['ageGrp']= 3"
   ]
  },
  {
   "cell_type": "code",
   "execution_count": 3,
   "metadata": {},
   "outputs": [
    {
     "data": {
      "text/plain": [
       "56014"
      ]
     },
     "execution_count": 3,
     "metadata": {},
     "output_type": "execute_result"
    }
   ],
   "source": [
    "len(mpg1)"
   ]
  },
  {
   "cell_type": "code",
   "execution_count": 4,
   "metadata": {},
   "outputs": [],
   "source": [
    "hash = {k:[] for k in range(18,40)}"
   ]
  },
  {
   "cell_type": "code",
   "execution_count": 5,
   "metadata": {},
   "outputs": [],
   "source": [
    "for index,d in enumerate(mpg1):\n",
    "    hash[int(d['age'])].append(index)"
   ]
  },
  {
   "cell_type": "code",
   "execution_count": 6,
   "metadata": {},
   "outputs": [],
   "source": [
    "mpg2=[]\n",
    "mpg3=[]\n",
    "for key in range(18,40):\n",
    "    length=len(hash[key])\n",
    "    test=round(0.2*length)\n",
    "    train=length-test\n",
    "    test_sample=random.sample(range(0, length), test)\n",
    "    remove_test_sample=[]\n",
    "    for z in test_sample:\n",
    "        mpg2.append(mpg1[hash[key][z]])\n",
    "        remove_test_sample.append(hash[key][z])\n",
    "    for y in remove_test_sample:\n",
    "        hash[key].remove(y)\n",
    "    for z in hash[key]:\n",
    "        mpg3.append(mpg1[z])\n",
    "    "
   ]
  },
  {
   "cell_type": "code",
   "execution_count": 7,
   "metadata": {},
   "outputs": [],
   "source": [
    "hash = {k:[] for k in range(18,40)}"
   ]
  },
  {
   "cell_type": "code",
   "execution_count": 8,
   "metadata": {},
   "outputs": [],
   "source": [
    "for index,d in enumerate(mpg3):\n",
    "    hash[int(d['age'])].append(index)"
   ]
  },
  {
   "cell_type": "code",
   "execution_count": 9,
   "metadata": {},
   "outputs": [],
   "source": [
    "mpg4=[]\n",
    "mpg5=[]\n",
    "for key in range(18,40):\n",
    "    length=len(hash[key])\n",
    "    val=round(0.1*length)\n",
    "    train=length-val\n",
    "    val_sample=random.sample(range(0, length), val)\n",
    "    remove_val_sample=[]\n",
    "    for z in val_sample:\n",
    "        mpg4.append(mpg3[hash[key][z]])\n",
    "        remove_val_sample.append(hash[key][z])\n",
    "    for y in remove_val_sample:\n",
    "        hash[key].remove(y)\n",
    "    for z in hash[key]:\n",
    "        mpg5.append(mpg3[z])\n",
    "        "
   ]
  },
  {
   "cell_type": "code",
   "execution_count": 10,
   "metadata": {},
   "outputs": [],
   "source": [
    "for i in range(10):\n",
    "    random.shuffle(mpg2)\n",
    "    random.shuffle(mpg4)\n",
    "    random.shuffle(mpg5)"
   ]
  },
  {
   "cell_type": "code",
   "execution_count": 11,
   "metadata": {},
   "outputs": [
    {
     "data": {
      "text/plain": [
       "odict_keys(['db_name', 'full_path', 'age', 'gender', 'ageGrp'])"
      ]
     },
     "execution_count": 11,
     "metadata": {},
     "output_type": "execute_result"
    }
   ],
   "source": [
    "label = mpg1[0].keys()\n",
    "label"
   ]
  },
  {
   "cell_type": "code",
   "execution_count": 12,
   "metadata": {},
   "outputs": [
    {
     "name": "stdout",
     "output_type": "stream",
     "text": [
      "11203\n",
      "4483\n",
      "40328\n"
     ]
    }
   ],
   "source": [
    "print(len(mpg2))\n",
    "print(len(mpg4))\n",
    "print(len(mpg5))"
   ]
  },
  {
   "cell_type": "code",
   "execution_count": null,
   "metadata": {},
   "outputs": [],
   "source": []
  },
  {
   "cell_type": "code",
   "execution_count": 13,
   "metadata": {},
   "outputs": [],
   "source": [
    "with open('/home/zarana/cnn2ranking/afad_test.csv', 'w') as output_file:\n",
    "    dict_writer = csv.DictWriter(output_file, label)\n",
    "    dict_writer.writeheader()\n",
    "    dict_writer.writerows(mpg2)"
   ]
  },
  {
   "cell_type": "code",
   "execution_count": 14,
   "metadata": {},
   "outputs": [],
   "source": [
    "with open('/home/zarana/cnn2ranking/afad_val.csv', 'w') as output_file:\n",
    "    dict_writer = csv.DictWriter(output_file, label)\n",
    "    dict_writer.writeheader()\n",
    "    dict_writer.writerows(mpg4)"
   ]
  },
  {
   "cell_type": "code",
   "execution_count": 15,
   "metadata": {},
   "outputs": [],
   "source": [
    "with open('/home/zarana/cnn2ranking/afad_train.csv', 'w') as output_file:\n",
    "    dict_writer = csv.DictWriter(output_file, label)\n",
    "    dict_writer.writeheader()\n",
    "    dict_writer.writerows(mpg5)"
   ]
  },
  {
   "cell_type": "code",
   "execution_count": null,
   "metadata": {},
   "outputs": [],
   "source": []
  },
  {
   "cell_type": "code",
   "execution_count": null,
   "metadata": {},
   "outputs": [],
   "source": []
  }
 ],
 "metadata": {
  "kernelspec": {
   "display_name": "Python 3",
   "language": "python",
   "name": "python3"
  },
  "language_info": {
   "codemirror_mode": {
    "name": "ipython",
    "version": 3
   },
   "file_extension": ".py",
   "mimetype": "text/x-python",
   "name": "python",
   "nbconvert_exporter": "python",
   "pygments_lexer": "ipython3",
   "version": "3.6.9"
  }
 },
 "nbformat": 4,
 "nbformat_minor": 4
}
