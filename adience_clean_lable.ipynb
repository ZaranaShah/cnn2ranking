{
 "cells": [
  {
   "cell_type": "code",
   "execution_count": 1,
   "metadata": {},
   "outputs": [],
   "source": [
    "import argparse\n",
    "import os\n",
    "import numpy as np\n",
    "import utils\n",
    "import pandas as pd\n",
    "import re\n",
    "from glob import glob\n",
    "import csv\n",
    "import math\n",
    "import random"
   ]
  },
  {
   "cell_type": "code",
   "execution_count": 2,
   "metadata": {},
   "outputs": [],
   "source": [
    "def makeAge(age: int):\n",
    "        if age == '(0, 2)':\n",
    "            return 0\n",
    "        elif age == '(4, 6)':\n",
    "            return 0\n",
    "        elif age in ['(8, 12)', '(8, 23)']:\n",
    "            return 1\n",
    "        elif age == '(15, 20)':\n",
    "            return 2\n",
    "        elif age in ['(25, 32)', '(27, 32)']:\n",
    "            return 3\n",
    "        elif age in ['(38, 43)', '(38, 48)', '(38, 42)']:\n",
    "            return 4\n",
    "        elif age == '(48, 53)':\n",
    "            return 5\n",
    "        elif age == '(60, 100)':\n",
    "            return 6\n",
    "        elif age == 'None':\n",
    "            return np.nan\n",
    "        else:\n",
    "            if(int(age)>=0 and int(age)<8): #8\n",
    "                return 0\n",
    "            elif (int(age)>=8 and int(age)<15): #7\n",
    "                return 1\n",
    "            elif (int(age)>=15 and int(age)<25): #10\n",
    "                return 2\n",
    "            elif (int(age)>=25 and int(age)<38): #14\n",
    "                return 3\n",
    "            elif (int(age)>=38 and int(age)<48): #10\n",
    "                return 4\n",
    "            elif (int(age)>=48 and int(age)<60):\n",
    "                return 5\n",
    "            elif (int(age)>=60 and int(age)<101):\n",
    "                return 6"
   ]
  },
  {
   "cell_type": "code",
   "execution_count": 34,
   "metadata": {},
   "outputs": [],
   "source": [
    "fold_files = glob('/home/zarana/cnn2ranking/adience' + \"/*.txt\") #path for adience dataset folds\n",
    "for ind,file in enumerate(fold_files):\n",
    "    data = pd.read_csv(file, sep='\\t')\n",
    "    data['full_path'] = data['user_id'] + '/landmark_aligned_face.' + data['face_id'].astype('str') + '.' + data['original_image']\n",
    "    data['db_name'] = 'adience/aligned'    \n",
    "    gender = {'m': 1, 'f': 0}\n",
    "    data['gender'] = data['gender'].map(gender)\n",
    "    data['age'] = data['age'].map(makeAge)\n",
    "    data = data.loc[(~data['age'].isnull()) & ((data['gender'] == 0) | (data['gender'] == 1)), ['db_name', 'full_path', 'age', 'gender']]\n",
    "    data.to_csv('/home/zarana/cnn2ranking/fold_'+str(ind)+'_data.csv', index=False) #path for folds having uniform and clean lable\n",
    "    "
   ]
  },
  {
   "cell_type": "code",
   "execution_count": 11,
   "metadata": {},
   "outputs": [
    {
     "data": {
      "text/plain": [
       "'2'"
      ]
     },
     "execution_count": 11,
     "metadata": {},
     "output_type": "execute_result"
    }
   ],
   "source": [
    "str(2)"
   ]
  },
  {
   "cell_type": "code",
   "execution_count": 13,
   "metadata": {},
   "outputs": [],
   "source": [
    "fold_files = '/home/zarana/cnn2ranking/adience' + \"/fold_4_data.txt\"\n",
    "data = pd.read_csv(fold_files, sep='\\t')\n",
    "data['full_path'] = data['user_id'] + '/landmark_aligned_face.' + data['face_id'].astype('str') + '.' + data['original_image']\n",
    "data['db_name'] = 'adience/aligned'    \n",
    "data['age'] = data['age'].map(makeAge)\n",
    "data = data.loc[(~data['age'].isnull()) , ['db_name', 'full_path', 'age', 'gender']]\n",
    "data.to_csv('/home/zarana/cnn2ranking/fold_4_data.csv', index=False)\n"
   ]
  },
  {
   "cell_type": "code",
   "execution_count": null,
   "metadata": {},
   "outputs": [],
   "source": []
  }
 ],
 "metadata": {
  "kernelspec": {
   "display_name": "Python 3",
   "language": "python",
   "name": "python3"
  },
  "language_info": {
   "codemirror_mode": {
    "name": "ipython",
    "version": 3
   },
   "file_extension": ".py",
   "mimetype": "text/x-python",
   "name": "python",
   "nbconvert_exporter": "python",
   "pygments_lexer": "ipython3",
   "version": "3.6.9"
  }
 },
 "nbformat": 4,
 "nbformat_minor": 4
}
